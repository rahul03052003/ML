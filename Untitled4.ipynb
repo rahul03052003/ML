{
 "cells": [
  {
   "cell_type": "code",
   "execution_count": 1,
   "id": "fb422d1c-f7e4-4fa2-abfb-4182d63bd21a",
   "metadata": {},
   "outputs": [
    {
     "name": "stdout",
     "output_type": "stream",
     "text": [
      "Requirement already satisfied: pandas in c:\\users\\admin\\miniconda3\\lib\\site-packages (2.2.3)\n",
      "Requirement already satisfied: numpy>=1.26.0 in c:\\users\\admin\\miniconda3\\lib\\site-packages (from pandas) (2.2.5)\n",
      "Requirement already satisfied: python-dateutil>=2.8.2 in c:\\users\\admin\\miniconda3\\lib\\site-packages (from pandas) (2.9.0.post0)\n",
      "Requirement already satisfied: pytz>=2020.1 in c:\\users\\admin\\miniconda3\\lib\\site-packages (from pandas) (2024.1)\n",
      "Requirement already satisfied: tzdata>=2022.7 in c:\\users\\admin\\miniconda3\\lib\\site-packages (from pandas) (2025.2)\n",
      "Requirement already satisfied: six>=1.5 in c:\\users\\admin\\miniconda3\\lib\\site-packages (from python-dateutil>=2.8.2->pandas) (1.17.0)\n",
      "Note: you may need to restart the kernel to use updated packages.\n"
     ]
    }
   ],
   "source": [
    "pip install pandas\n"
   ]
  },
  {
   "cell_type": "code",
   "execution_count": 2,
   "id": "1a8b57f3-b076-47b8-8f33-50d6caa889fc",
   "metadata": {},
   "outputs": [
    {
     "name": "stdout",
     "output_type": "stream",
     "text": [
      "Requirement already satisfied: numpy in c:\\users\\admin\\miniconda3\\lib\\site-packages (2.2.5)\n",
      "Note: you may need to restart the kernel to use updated packages.\n"
     ]
    }
   ],
   "source": [
    "pip install numpy"
   ]
  },
  {
   "cell_type": "code",
   "execution_count": 3,
   "id": "15963a0d-28ac-496d-9079-44d4f7b59afe",
   "metadata": {},
   "outputs": [
    {
     "name": "stdout",
     "output_type": "stream",
     "text": [
      "Requirement already satisfied: matplotlib in c:\\users\\admin\\miniconda3\\lib\\site-packages (3.10.0)\n",
      "Requirement already satisfied: contourpy>=1.0.1 in c:\\users\\admin\\miniconda3\\lib\\site-packages (from matplotlib) (1.3.1)\n",
      "Requirement already satisfied: cycler>=0.10 in c:\\users\\admin\\miniconda3\\lib\\site-packages (from matplotlib) (0.11.0)\n",
      "Requirement already satisfied: fonttools>=4.22.0 in c:\\users\\admin\\miniconda3\\lib\\site-packages (from matplotlib) (4.55.3)\n",
      "Requirement already satisfied: kiwisolver>=1.3.1 in c:\\users\\admin\\miniconda3\\lib\\site-packages (from matplotlib) (1.4.8)\n",
      "Requirement already satisfied: numpy>=1.23 in c:\\users\\admin\\miniconda3\\lib\\site-packages (from matplotlib) (2.2.5)\n",
      "Requirement already satisfied: packaging>=20.0 in c:\\users\\admin\\miniconda3\\lib\\site-packages (from matplotlib) (24.2)\n",
      "Requirement already satisfied: pillow>=8 in c:\\users\\admin\\miniconda3\\lib\\site-packages (from matplotlib) (11.1.0)\n",
      "Requirement already satisfied: pyparsing>=2.3.1 in c:\\users\\admin\\miniconda3\\lib\\site-packages (from matplotlib) (3.2.0)\n",
      "Requirement already satisfied: python-dateutil>=2.7 in c:\\users\\admin\\miniconda3\\lib\\site-packages (from matplotlib) (2.9.0.post0)\n",
      "Requirement already satisfied: six>=1.5 in c:\\users\\admin\\miniconda3\\lib\\site-packages (from python-dateutil>=2.7->matplotlib) (1.17.0)\n",
      "Note: you may need to restart the kernel to use updated packages.\n"
     ]
    }
   ],
   "source": [
    "pip install matplotlib"
   ]
  },
  {
   "cell_type": "code",
   "execution_count": 5,
   "id": "f6132923-d81a-4eb1-86c8-3cc40515fc31",
   "metadata": {},
   "outputs": [
    {
     "name": "stdin",
     "output_type": "stream",
     "text": [
      "Value:  123\n"
     ]
    },
    {
     "name": "stdout",
     "output_type": "stream",
     "text": [
      "\n",
      "Reverse value is:  321\n"
     ]
    }
   ],
   "source": [
    "n=int(input(\"Value: \"))\n",
    "s=0\n",
    "while(n>0):\n",
    "    r=n%10\n",
    "    s=s*10+r\n",
    "    n=n//10\n",
    "print(\"\\nReverse value is: \",s)"
   ]
  },
  {
   "cell_type": "code",
   "execution_count": 12,
   "id": "ff614d62-b461-48ed-90fb-f7cd9051189b",
   "metadata": {},
   "outputs": [
    {
     "name": "stdout",
     "output_type": "stream",
     "text": [
      "\n",
      "1 2 3 4 \n",
      "2 3 4 \n",
      "3 4 \n",
      "4 \n"
     ]
    }
   ],
   "source": [
    "n=5\n",
    "for i in range(1,n+1):\n",
    "    print()\n",
    "    for j in range(i,n):\n",
    "        print(j,end=' ')"
   ]
  },
  {
   "cell_type": "code",
   "execution_count": 14,
   "id": "5e4b78d0-7dd9-4696-b6a5-e2c6d43f2b76",
   "metadata": {},
   "outputs": [
    {
     "name": "stdin",
     "output_type": "stream",
     "text": [
      "Value:  1\n",
      "Value:  2\n",
      "Value:  3\n",
      "Value:  4\n",
      "Value:  0\n"
     ]
    },
    {
     "name": "stdout",
     "output_type": "stream",
     "text": [
      "Total is:  10\n",
      "Average is:  2.5\n"
     ]
    }
   ],
   "source": [
    "total=0\n",
    "c=0\n",
    "while True:\n",
    "    n=int(input(\"Value: \"))\n",
    "    if(n==0):\n",
    "        break\n",
    "    total+=n\n",
    "    c+=1\n",
    "if c>0:\n",
    "    avg=total/c\n",
    "    print(\"Total is: \",total)\n",
    "    print(\"Average is: \",avg)\n",
    "    "
   ]
  },
  {
   "cell_type": "code",
   "execution_count": 18,
   "id": "84aa44a4-c758-406b-b5d7-964bb024e38d",
   "metadata": {},
   "outputs": [
    {
     "name": "stdout",
     "output_type": "stream",
     "text": [
      "T\n",
      "I\n",
      "M\n",
      "P\n"
     ]
    }
   ],
   "source": [
    "c=\"This is mca program\"  \n",
    "o=\"\"\n",
    "for i in c.split():\n",
    "    o=i[0].upper()\n",
    "    print(o)"
   ]
  },
  {
   "cell_type": "code",
   "execution_count": 21,
   "id": "2988459e-0302-4594-abb8-c05063f4012d",
   "metadata": {},
   "outputs": [
    {
     "name": "stdin",
     "output_type": "stream",
     "text": [
      "String:  HElloWorld\n"
     ]
    },
    {
     "name": "stdout",
     "output_type": "stream",
     "text": [
      "H\n",
      "E\n",
      "l\n",
      "l\n",
      "o\n",
      "W\n",
      "o\n",
      "r\n",
      "l\n",
      "d\n",
      "lloorldHEW\n"
     ]
    }
   ],
   "source": [
    "s=input(\"String: \")\n",
    "l=\"\"\n",
    "u=\"\"\n",
    "for i in s:\n",
    "    print(i)\n",
    "    if(i.islower()):\n",
    "        l=l+i\n",
    "    else:\n",
    "        u=u+i\n",
    "print(l+u)"
   ]
  },
  {
   "cell_type": "code",
   "execution_count": 24,
   "id": "933c9338-632d-4799-bddd-2a3602222120",
   "metadata": {},
   "outputs": [
    {
     "data": {
      "text/plain": [
       "'hell'"
      ]
     },
     "execution_count": 24,
     "metadata": {},
     "output_type": "execute_result"
    }
   ],
   "source": [
    "l=\"hell\"\n",
    "l.lower()"
   ]
  },
  {
   "cell_type": "code",
   "execution_count": 25,
   "id": "305cb9d1-165d-45a8-bdd6-52c485cadedf",
   "metadata": {},
   "outputs": [
    {
     "data": {
      "text/plain": [
       "True"
      ]
     },
     "execution_count": 25,
     "metadata": {},
     "output_type": "execute_result"
    }
   ],
   "source": [
    "l.islower()"
   ]
  },
  {
   "cell_type": "code",
   "execution_count": 27,
   "id": "c3f1cbec-00ee-4585-8306-33f6b6b4c97c",
   "metadata": {},
   "outputs": [
    {
     "name": "stdin",
     "output_type": "stream",
     "text": [
      "String:  431wdq2314dsd\n"
     ]
    },
    {
     "name": "stdout",
     "output_type": "stream",
     "text": [
      "4312314\n"
     ]
    }
   ],
   "source": [
    "x=input(\"String: \")\n",
    "d=\"\"\n",
    "for i in x:\n",
    "    if(i.isdigit()):\n",
    "        d=d+i\n",
    "print(d)"
   ]
  },
  {
   "cell_type": "code",
   "execution_count": 31,
   "id": "2f84b0d7-2ac9-4465-b3f9-044d08623cb2",
   "metadata": {},
   "outputs": [
    {
     "name": "stdin",
     "output_type": "stream",
     "text": [
      "String:  hello\n"
     ]
    },
    {
     "name": "stdout",
     "output_type": "stream",
     "text": [
      "hello  is not palindrome\n"
     ]
    }
   ],
   "source": [
    "x=input(\"String: \")\n",
    "x1=x[::-1]\n",
    "if(x==x1):\n",
    "    print(x,\" is palindrome\")\n",
    "else:\n",
    "    print(x,\" is not palindrome\")"
   ]
  },
  {
   "cell_type": "code",
   "execution_count": 35,
   "id": "12b4259c-5bd5-40fa-9673-45064eddcddc",
   "metadata": {},
   "outputs": [
    {
     "name": "stdin",
     "output_type": "stream",
     "text": [
      "String:  hellow world\n"
     ]
    },
    {
     "name": "stdout",
     "output_type": "stream",
     "text": [
      "['hellow', 'world']\n",
      "world hellow\n"
     ]
    }
   ],
   "source": [
    "x=input(\"String: \")\n",
    "x=x.split()\n",
    "print(x)\n",
    "m=x[::-1]\n",
    "print(\" \".join(m))"
   ]
  },
  {
   "cell_type": "code",
   "execution_count": 36,
   "id": "71d1eb6d-5ee0-4c42-8768-499f5975ddd7",
   "metadata": {},
   "outputs": [
    {
     "name": "stdout",
     "output_type": "stream",
     "text": [
      "[5, 6, 7, 8, 10, 12, 14, 16, 15, 18, 21, 24, 20, 24, 28, 32]\n"
     ]
    }
   ],
   "source": [
    "l1=[1,2,3,4]\n",
    "l2=[5,6,7,8]\n",
    "l=[i*j for i in l1 for j in l2]\n",
    "print(l)"
   ]
  },
  {
   "cell_type": "code",
   "execution_count": 37,
   "id": "b06ff503-8787-4b1c-96ac-c349cb127d5b",
   "metadata": {},
   "outputs": [
    {
     "name": "stdout",
     "output_type": "stream",
     "text": [
      "[1, 3, 6, 10, 15, 21]\n"
     ]
    }
   ],
   "source": [
    "l=[1,2,3,4,5,6]\n",
    "s=0\n",
    "l1=[]\n",
    "for i in l:\n",
    "    s=s+i\n",
    "    l1.append(s)\n",
    "print(l1)"
   ]
  },
  {
   "cell_type": "code",
   "execution_count": 44,
   "id": "d8c3168d-3b6c-40cf-a1ef-df60fedcbe27",
   "metadata": {},
   "outputs": [
    {
     "name": "stdout",
     "output_type": "stream",
     "text": [
      "{1, 2, 3, 4, 5, 6, 7}\n",
      "[1]\n"
     ]
    }
   ],
   "source": [
    "l=[1,2,2,2,3,4,5,6,7,7]\n",
    "s=set(l)\n",
    "print(s)\n",
    "l1=[1,2,3,4]\n",
    "l1=set(l1)\n",
    "l2=[1,5,6]\n",
    "l2=set(l2)\n",
    "print(list(s&l1&l2))"
   ]
  },
  {
   "cell_type": "code",
   "execution_count": 47,
   "id": "1ff09190-ddbc-427e-8806-bf0d1d5a9ff2",
   "metadata": {},
   "outputs": [
    {
     "name": "stdout",
     "output_type": "stream",
     "text": [
      "4\n"
     ]
    }
   ],
   "source": [
    "v=set(\"My nAme is RahL\")\n",
    "v1=set(\"aeiouAEIOU\")\n",
    "print(len(v&v1))"
   ]
  },
  {
   "cell_type": "code",
   "execution_count": 49,
   "id": "4c458494-d799-4b96-8f18-ebbb37739e73",
   "metadata": {},
   "outputs": [
    {
     "name": "stdout",
     "output_type": "stream",
     "text": [
      "(0, 1, 1, 2, 3)\n"
     ]
    }
   ],
   "source": [
    "n=5\n",
    "fib=[]\n",
    "a,b=0,1\n",
    "for i in range(n):\n",
    "    fib.append(a)\n",
    "    a,b=b,a+b\n",
    "fib=tuple(fib)\n",
    "print(fib)"
   ]
  },
  {
   "cell_type": "code",
   "execution_count": 64,
   "id": "810d4b1e-f5f9-43ab-bed7-4de68aeee4c1",
   "metadata": {},
   "outputs": [
    {
     "name": "stdout",
     "output_type": "stream",
     "text": [
      "Original dict\n",
      "\n",
      "stu1:{'name': 'Alice', 'age': 20}\n",
      "stu2:{'name': 'Ravi', 'age': 21}\n",
      "Alice\n",
      "Coverting to Uppercase\n",
      "ALICE\n",
      "stu1:{'name': 'Ram', 'age': 20}\n",
      "stu2:{'name': 'Ravi', 'age': 21}\n"
     ]
    }
   ],
   "source": [
    "my_d={'stu1':{'name':'Alice','age':20},'stu2':{'name':'Ravi','age':21}}\n",
    "print(\"Original dict\\n\")\n",
    "for key,val in my_d.items():\n",
    "    print(f\"{key}:{val}\")\n",
    "print(my_d['stu1']['name'])\n",
    "\n",
    "print(\"Coverting to Uppercase\")\n",
    "print(my_d['stu1']['name'].upper())\n",
    "my_d['stu1']['name']='Ram'\n",
    "for key,val in my_d.items():\n",
    "    print(f\"{key}:{val}\")"
   ]
  },
  {
   "cell_type": "code",
   "execution_count": 65,
   "id": "3c201269-a0fb-4dc0-b209-aebb82cd00a7",
   "metadata": {},
   "outputs": [
    {
     "name": "stdout",
     "output_type": "stream",
     "text": [
      "Element  4 at index 4\n"
     ]
    }
   ],
   "source": [
    "def list(a,tar):\n",
    "    for i,ele in enumerate(a):\n",
    "        if ele==tar:\n",
    "            return i\n",
    "    return -1\n",
    "\n",
    "if __name__=='__main__':\n",
    "    n=[1,5,7,2,4,6]\n",
    "    t=4\n",
    "    r=list(n,t)\n",
    "    if r!=-1:\n",
    "        print(f\"Element  {t} at index {r}\")\n",
    "    else:\n",
    "        print(\"Not found\")"
   ]
  },
  {
   "cell_type": "code",
   "execution_count": 66,
   "id": "eee843b4-46be-4cdb-bc72-76cf5167e217",
   "metadata": {},
   "outputs": [
    {
     "name": "stdout",
     "output_type": "stream",
     "text": [
      "0 \t 1\n",
      "1 \t 2\n",
      "2 \t 3\n",
      "3 \t 4\n",
      "4 \t 5\n"
     ]
    }
   ],
   "source": [
    "x=[1,2,3,4,5]\n",
    "for i,val in enumerate(x):\n",
    "    print(f\"{i} \\t {val}\")"
   ]
  },
  {
   "cell_type": "code",
   "execution_count": 70,
   "id": "f6380964-d902-43ad-b9ee-fb35a79707ff",
   "metadata": {},
   "outputs": [
    {
     "name": "stdout",
     "output_type": "stream",
     "text": [
      "NOt found\n"
     ]
    }
   ],
   "source": [
    "def linear(a,tar):\n",
    "    for i in range(len(a)):\n",
    "        if a[i]==tar:\n",
    "            return i\n",
    "    return -1\n",
    "n=[1,2,3,4,5]\n",
    "t=0\n",
    "r=linear(n,t)\n",
    "if r!=-1:\n",
    "    print(\"found\")\n",
    "else:\n",
    "    print(\"NOt found\")"
   ]
  },
  {
   "cell_type": "code",
   "execution_count": 72,
   "id": "e3d3ca3b-268b-4b36-86d3-47cdd3ace466",
   "metadata": {},
   "outputs": [
    {
     "name": "stdout",
     "output_type": "stream",
     "text": [
      "3687.8\n"
     ]
    }
   ],
   "source": [
    "import numpy as np\n",
    "def mse(a,p):\n",
    "    return np.mean((a-p)**2)\n",
    "ac=np.random.randint(1,120,5)\n",
    "pre=np.random.randint(1,120,5)\n",
    "print(mse(ac,pre))"
   ]
  },
  {
   "cell_type": "code",
   "execution_count": 73,
   "id": "05dc069c-dd85-4c75-9cea-da6b9d502350",
   "metadata": {},
   "outputs": [
    {
     "name": "stdout",
     "output_type": "stream",
     "text": [
      "[ 1  2  3  4  5  6  7  8  9 10]\n"
     ]
    }
   ],
   "source": [
    "def sig(x):\n",
    "    return 1/(1+(np.exp(-x)))\n",
    "n=np.arange(1,11)\n",
    "print(n)"
   ]
  },
  {
   "cell_type": "code",
   "execution_count": 74,
   "id": "3c414821-9798-4c8f-98fc-007623551dd0",
   "metadata": {},
   "outputs": [
    {
     "name": "stdout",
     "output_type": "stream",
     "text": [
      "           batter  batsman_run\n",
      "0  A Ashish Reddy          280\n",
      "1        A Badoni          161\n",
      "2      A Chandila            4\n",
      "3        A Chopra           53\n",
      "4     A Choudhary           25\n",
      "5     A Dananjaya            4\n",
      "6      A Flintoff           62\n",
      "7        A Kumble           35\n",
      "8       A Manohar          108\n",
      "9        A Mishra          362\n",
      "\n",
      "\n",
      "0    batsman_run\n",
      "dtype: object\n"
     ]
    }
   ],
   "source": [
    "import pandas as pd\n",
    "ipl=pd.read_csv(\"batsman_runs_series.csv\")\n",
    "print(ipl.head(10))\n",
    "print(\"\\n\")\n",
    "print(pd.Series(\"batsman_run\"))"
   ]
  },
  {
   "cell_type": "code",
   "execution_count": 76,
   "id": "1163720e-3753-439f-b163-ed5152975811",
   "metadata": {},
   "outputs": [
    {
     "name": "stdout",
     "output_type": "stream",
     "text": [
      "Top 10 Scorers\n",
      "\n",
      "             batter  batsman_run\n",
      "569         V Kohli         6634\n",
      "462        S Dhawan         6244\n",
      "130       DA Warner         5883\n",
      "430       RG Sharma         5881\n",
      "493        SK Raina         5536\n",
      "27   AB de Villiers         5181\n",
      "108        CH Gayle         4997\n",
      "339        MS Dhoni         4978\n",
      "452      RV Uthappa         4954\n",
      "256      KD Karthik         4377\n"
     ]
    }
   ],
   "source": [
    "import pandas as pd\n",
    "ipl = pd.read_csv(\"batsman_runs_series.csv\")\n",
    "top_scorers = ipl.groupby(\"batter\")[\"batsman_run\"].sum().reset_index()\n",
    "top_10 = top_scorers.sort_values(by=\"batsman_run\", ascending=False).head(10)\n",
    "print(\"Top 10 Scorers\\n\")\n",
    "print(top_10)"
   ]
  },
  {
   "cell_type": "code",
   "execution_count": 77,
   "id": "a7bb9176-12fe-4ddd-82cc-517deeac6b0b",
   "metadata": {},
   "outputs": [
    {
     "name": "stdout",
     "output_type": "stream",
     "text": [
      "Number of players with more than 3000 runs: 20\n"
     ]
    }
   ],
   "source": [
    "import pandas as pd\n",
    "\n",
    "ipl = pd.read_csv(\"batsman_runs_series.csv\")\n",
    "top_scorers = ipl.groupby(\"batter\")[\"batsman_run\"].sum().reset_index()\n",
    "players_above_3000 = top_scorers[top_scorers[\"batsman_run\"] > 3000]\n",
    "num_players_above_3000 = players_above_3000.shape[0]\n",
    "print(f\"Number of players with more than 3000 runs: {num_players_above_3000}\")"
   ]
  },
  {
   "cell_type": "code",
   "execution_count": 78,
   "id": "7fe60db5-ed60-42e5-9a31-315cebb76ebd",
   "metadata": {},
   "outputs": [
    {
     "name": "stdout",
     "output_type": "stream",
     "text": [
      "Number of players with runs above the mean value: 128\n"
     ]
    }
   ],
   "source": [
    "import pandas as pd\n",
    "\n",
    "ipl = pd.read_csv(\"batsman_runs_series.csv\")\n",
    "\n",
    "top_scorers = ipl.groupby(\"batter\")[\"batsman_run\"].sum().reset_index()\n",
    "\n",
    "mean_runs = top_scorers[\"batsman_run\"].mean()\n",
    "\n",
    "players_above_mean = top_scorers[top_scorers[\"batsman_run\"] > mean_runs]\n",
    "\n",
    "num_players_above_mean = players_above_mean.shape[0]\n",
    "\n",
    "print(f\"Number of players with runs above the mean value: {num_players_above_mean}\")"
   ]
  },
  {
   "cell_type": "code",
   "execution_count": 79,
   "id": "e93997ee-0094-42bf-b6a2-65eb6976cae7",
   "metadata": {},
   "outputs": [
    {
     "name": "stdout",
     "output_type": "stream",
     "text": [
      "                                      item_price\n",
      "item_name                                       \n",
      "Chips and Fresh Tomato Salsa              $2.39 \n",
      "Izze                                      $3.39 \n",
      "Nantucket Nectar                          $3.39 \n",
      "Chips and Tomatillo-Green Chili Salsa     $2.39 \n",
      "Chicken Bowl                             $16.98 \n",
      "...                                          ...\n",
      "Steak Burrito                            $11.75 \n",
      "Steak Burrito                            $11.75 \n",
      "Chicken Salad Bowl                       $11.25 \n",
      "Chicken Salad Bowl                        $8.75 \n",
      "Chicken Salad Bowl                        $8.75 \n",
      "\n",
      "[4622 rows x 1 columns]\n"
     ]
    }
   ],
   "source": [
    "import pandas as pd\n",
    "\n",
    "# Read the CSV file and set 'item_name' as the index\n",
    "df = pd.read_csv('items.csv', index_col='item_name')\n",
    "\n",
    "# Display the DataFrame\n",
    "print(df)"
   ]
  },
  {
   "cell_type": "code",
   "execution_count": 80,
   "id": "bdbab99f-c623-4381-938c-637e1531eb61",
   "metadata": {},
   "outputs": [
    {
     "name": "stdout",
     "output_type": "stream",
     "text": [
      "Number of NaN values per column:\n",
      "item_price    50\n",
      "dtype: int64\n"
     ]
    }
   ],
   "source": [
    "import pandas as pd\n",
    "\n",
    "# Read CSV with 'item_name' as index\n",
    "df = pd.read_csv('items.csv', index_col='item_name')\n",
    "\n",
    "# Count NaN values per column\n",
    "nan_counts = df.isna().sum()  # or df.isnull().sum()\n",
    "\n",
    "print(\"Number of NaN values per column:\")\n",
    "print(nan_counts)"
   ]
  },
  {
   "cell_type": "code",
   "execution_count": 82,
   "id": "8b68584a-8531-41d8-9e21-ab106985f4ac",
   "metadata": {},
   "outputs": [
    {
     "name": "stdout",
     "output_type": "stream",
     "text": [
      "DataFrame with prices in INR:\n",
      "                                       item_price\n",
      "item_name                                        \n",
      "Chips and Fresh Tomato Salsa               199.56\n",
      "Izze                                       283.06\n",
      "Nantucket Nectar                           283.06\n",
      "Chips and Tomatillo-Green Chili Salsa      199.56\n",
      "Chicken Bowl                              1417.83\n",
      "\n",
      "Number of NaN values:\n",
      "item_price    50\n",
      "dtype: int64\n"
     ]
    }
   ],
   "source": [
    "import pandas as pd\n",
    "\n",
    "# Read the CSV file with item_name as index\n",
    "df = pd.read_csv('items.csv', index_col='item_name')\n",
    "\n",
    "# Clean the price column by removing $ and converting to float\n",
    "df['item_price'] = df['item_price'].str.replace('$', '').astype(float)\n",
    "\n",
    "# Convert dollars to rupees (1 USD = 83.5 INR)\n",
    "exchange_rate = 83.5\n",
    "df['item_price'] = (df['item_price'] * exchange_rate).round(2)\n",
    "\n",
    "# Count NaN values\n",
    "nan_count = df.isna().sum()\n",
    "\n",
    "print(\"DataFrame with prices in INR:\")\n",
    "print(df.head())\n",
    "print(\"\\nNumber of NaN values:\")\n",
    "print(nan_count)"
   ]
  },
  {
   "cell_type": "code",
   "execution_count": 83,
   "id": "7e1f6924-a75c-4c2e-9cf2-2e1d9ce4e348",
   "metadata": {},
   "outputs": [
    {
     "name": "stdout",
     "output_type": "stream",
     "text": [
      "Data type of item_price: float64\n",
      "\n",
      "DataFrame with prices in INR:\n",
      "                                       item_price\n",
      "item_name                                        \n",
      "Chips and Fresh Tomato Salsa               199.56\n",
      "Izze                                       283.06\n",
      "Nantucket Nectar                           283.06\n",
      "Chips and Tomatillo-Green Chili Salsa      199.56\n",
      "Chicken Bowl                              1417.83\n",
      "\n",
      "Number of NaN values:\n",
      "item_price    50\n",
      "dtype: int64\n"
     ]
    }
   ],
   "source": [
    "import pandas as pd\n",
    "\n",
    "# Read the CSV file with item_name as index\n",
    "df = pd.read_csv('items.csv', index_col='item_name')\n",
    "\n",
    "# Clean the price column by removing $ and converting to float\n",
    "df['item_price'] = df['item_price'].str.replace('$', '').astype(float)\n",
    "\n",
    "# Convert dollars to rupees (1 USD = 83.5 INR) and ensure float type\n",
    "exchange_rate = 83.5\n",
    "df['item_price'] = (df['item_price'] * exchange_rate).round(2).astype(float)\n",
    "\n",
    "# Verify the data type\n",
    "print(\"Data type of item_price:\", df['item_price'].dtype)\n",
    "\n",
    "# Count NaN values\n",
    "nan_count = df.isna().sum()\n",
    "\n",
    "print(\"\\nDataFrame with prices in INR:\")\n",
    "print(df.head())\n",
    "print(\"\\nNumber of NaN values:\")\n",
    "print(nan_count)"
   ]
  },
  {
   "cell_type": "code",
   "execution_count": 84,
   "id": "0f4f8e69-5e8e-46a8-b2d5-aecb4f02983f",
   "metadata": {},
   "outputs": [
    {
     "name": "stdout",
     "output_type": "stream",
     "text": [
      "Number of NaN values after filling: 0\n",
      "\n",
      "Sample of filled data:\n",
      "                  item_price\n",
      "item_name                   \n",
      "Side of Chips     623.163397\n",
      "Steak Soft Tacos  623.163397\n",
      "Chips             623.163397\n",
      "Chicken Burrito   623.163397\n",
      "Veggie Bowl       623.163397\n"
     ]
    }
   ],
   "source": [
    "import pandas as pd\n",
    "\n",
    "# Read the CSV file with item_name as index\n",
    "df = pd.read_csv('items.csv', index_col='item_name')\n",
    "\n",
    "# Clean the price column by removing $ and converting to float\n",
    "df['item_price'] = df['item_price'].str.replace('$', '').astype(float)\n",
    "\n",
    "# Convert dollars to rupees (1 USD = 83.5 INR) and ensure float type\n",
    "exchange_rate = 83.5\n",
    "df['item_price'] = (df['item_price'] * exchange_rate).round(2).astype(float)\n",
    "\n",
    "# Fill NaN values with the mean of the series\n",
    "mean_price = df['item_price'].mean()\n",
    "df['item_price'] = df['item_price'].fillna(mean_price)\n",
    "\n",
    "# Verify there are no more NaN values\n",
    "print(\"Number of NaN values after filling:\", df['item_price'].isna().sum())\n",
    "\n",
    "# Show some rows with previously missing values (if any)\n",
    "print(\"\\nSample of filled data:\")\n",
    "print(df[df['item_price'] == mean_price].head())"
   ]
  },
  {
   "cell_type": "code",
   "execution_count": null,
   "id": "5826a450-cfec-4290-ae01-d81ee3bab624",
   "metadata": {},
   "outputs": [],
   "source": []
  }
 ],
 "metadata": {
  "kernelspec": {
   "display_name": "Python 3 (ipykernel)",
   "language": "python",
   "name": "python3"
  },
  "language_info": {
   "codemirror_mode": {
    "name": "ipython",
    "version": 3
   },
   "file_extension": ".py",
   "mimetype": "text/x-python",
   "name": "python",
   "nbconvert_exporter": "python",
   "pygments_lexer": "ipython3",
   "version": "3.13.2"
  }
 },
 "nbformat": 4,
 "nbformat_minor": 5
}
